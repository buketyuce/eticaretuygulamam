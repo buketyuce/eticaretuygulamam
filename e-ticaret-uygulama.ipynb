{
 "cells": [
  {
   "cell_type": "code",
   "execution_count": 1,
   "id": "71cf107e-0afb-4406-bc1f-a8b8cd102caf",
   "metadata": {},
   "outputs": [],
   "source": [
    "#Öncelike siparişlerin ve sepetin tutulması için boş sözlükler oluşturdum.\n",
    "siparislerData = {}\n",
    "sepetData= {}"
   ]
  },
  {
   "cell_type": "code",
   "execution_count": 2,
   "id": "f859e8c5-18f1-42c3-8a5a-343b7698091d",
   "metadata": {},
   "outputs": [],
   "source": [
    "#başarılı giriş yapıldıktan sonra kullanıcıya seçenekler sunulacak. Öncelikle seçenekleri tanımladım.\n",
    "\n",
    "def basarili_giris():\n",
    "    while True:\n",
    "        a= int(input(\"\"\"\"\n",
    "        1.Siparişlerim\n",
    "        2.Sepetim\n",
    "        3.Alışveriş\n",
    "        \"\"\"))\n",
    "        if a==1:\n",
    "            siparisler()\n",
    "        elif a==2:\n",
    "            sepet()\n",
    "        elif a==3:\n",
    "            alisveris()\n",
    "        else:\n",
    "             print(\"1-3 arasında seçim yapınız!!\")"
   ]
  },
  {
   "cell_type": "code",
   "execution_count": 3,
   "id": "9e4797ad-43d9-42b1-a2d5-57250b5b43bb",
   "metadata": {},
   "outputs": [],
   "source": [
    "#siparişler() fonksiyonunu tanımladım.\n",
    "\n",
    "def siparisler():\n",
    "    print(siparislerData)\n",
    "    while True:\n",
    "        x= int(input(\"\"\"\n",
    "        Önceki Menüye gitmek için:1\n",
    "        Çıkmak için:2\n",
    "        \"\"\"))\n",
    "        if x==1:\n",
    "            basarili_giris()\n",
    "        elif x==2:\n",
    "            print(\"Hoşçakal\")\n",
    "            break\n",
    "        else:\n",
    "            print(\"1-2 arasında seçim yapınız!!\")"
   ]
  },
  {
   "cell_type": "code",
   "execution_count": 4,
   "id": "1d740e0b-cb03-4327-99d8-795bd1f3ab84",
   "metadata": {},
   "outputs": [],
   "source": [
    "#sepet() fonksiyonunu tanımladım.\n",
    "\n",
    "def sepet():\n",
    "    print(sepetData)\n",
    "    while True:\n",
    "        b= int(input(\"\"\"\"\n",
    "        1.Sepet Toplam Fiyat\n",
    "        2.Ürün Çıkar\n",
    "        3.Sepeti Onayla\n",
    "        4.Önceki Menü\n",
    "        \"\"\"))\n",
    "        \n",
    "        if b==1: #kullanıcı 1'i seçerse sepetteki ürünlerin toplam fiyatı gösterilir.\n",
    "                a=list(sepetData.values())\n",
    "                toplam=sum(a)\n",
    "                print(toplam)\n",
    "            \n",
    "        elif b==2: #kullanıcı 2'yi seçerse silmek istediği ürün sorulur ve sepette varsa silinir.\n",
    "                silinecek= input(\"Sepetten Silinecek Ürünü Nedir?:\")\n",
    "                if silinecek in sepetData:\n",
    "                    del sepetData[silinecek]\n",
    "                    print(\"Başarı İle Silindi\")\n",
    "                else:\n",
    "                    print(silinecek, \"BULUNAMADI\")\n",
    "                    \n",
    "        elif b==3:  #kullanıcı 3'ü seçerse sipariş onaylanır ve sepetten silinerek siparişlere eklenir.\n",
    "                siparislerData.update(sepetData)\n",
    "                print(\"siparişiniz onaylanmıştır.\")\n",
    "                sepetData.clear()\n",
    "                \n",
    "        elif b==4:  #kullanıcı 4'ü seçerse bir önceki ekrana döner.\n",
    "            basarili_giris()\n",
    "            \n",
    "        else:\n",
    "             print(\"1-3 arasında seçim yapınız!!\")"
   ]
  },
  {
   "cell_type": "code",
   "execution_count": 5,
   "id": "0176badc-141d-4f41-b66f-8499bdb79c4c",
   "metadata": {},
   "outputs": [],
   "source": [
    "#alısveris() fonksiyonunu tanımladım.\n",
    "\n",
    "def alisveris():\n",
    "    while True:\n",
    "        c= int(input(\"\"\"\"\n",
    "        1.Giyim\n",
    "        2.Aksesuar\n",
    "        3.Kozmetik\n",
    "        4.Ayakkabı\n",
    "        5.Çanta\n",
    "        6.Önceki Menü\n",
    "        \"\"\"))\n",
    "        if c==1:\n",
    "            giyimler()\n",
    "        elif c==2:\n",
    "            aksesuarlar()\n",
    "        elif c==3:\n",
    "            kozmetikler()\n",
    "        elif c==4:\n",
    "            ayakkabilar()\n",
    "        elif c==5:\n",
    "            cantalar()\n",
    "        elif c==6:\n",
    "            basarili_giris()\n",
    "        else:\n",
    "             print(\"1-6 arasında seçim yapınız!!\")"
   ]
  },
  {
   "cell_type": "code",
   "execution_count": 6,
   "id": "ead2add1-dbfb-4ba4-8e54-f5a9679d7403",
   "metadata": {},
   "outputs": [],
   "source": [
    "#alısveris() fonksiyonun içinde bulunan;\n",
    "#giyimler(),aksesuarlar(),kozmetikler(),ayakkabiler() ve cantalar() fonksiyonlarını tanımladım\n",
    "def giyimler():\n",
    "        g= int(input(\"\"\"\"\n",
    "        1.Elbise:200TL\n",
    "        2.Tişört:80TL\n",
    "        3.Gömlek:100TL\n",
    "        4.Pantalon:150TL\n",
    "        5.Etek:90TL\n",
    "        6.Önceki Menü\n",
    "        \"\"\"))\n",
    "        if g==1:\n",
    "            elbiseler={\"elbise\" : int(\"200\")}\n",
    "            sepetData.update(elbiseler)\n",
    "            print(\"Ürün sepete eklendi\")\n",
    "            print(sepetData)\n",
    "        elif g==2:\n",
    "            tişörtler={\"tişört\" : int(\"80\")}\n",
    "            sepetData.update(tişörtler)\n",
    "            print(\"Ürün sepete eklendi\")\n",
    "            print(sepetData)\n",
    "        elif g==3:\n",
    "            gömlekler={\"gömlek\" : int(\"100\")}\n",
    "            sepetData.update(gömlekler)\n",
    "            print(\"Ürün sepete eklendi\")\n",
    "            print(sepetData)\n",
    "        elif g==4:\n",
    "            pantalonlar={\"pantalon\" : int(\"150\")}\n",
    "            sepetData.update(pantalonlar)\n",
    "            print(\"Ürün sepete eklendi\")\n",
    "            print(sepetData)\n",
    "        elif g==5:\n",
    "            etekler={\"etek\" : int(\"90\")}\n",
    "            sepetData.update(etekler)\n",
    "            print(\"Ürün sepete eklendi\")\n",
    "            print(sepetData)\n",
    "        elif g==6:\n",
    "            alisveris()\n",
    "        else:\n",
    "             print(\"1-6 arasında seçim yapınız!!\")\n",
    "\n",
    "\n",
    "def aksesuarlar():\n",
    "        s= int(input(\"\"\"\"\n",
    "        1.Saat:500TL\n",
    "        2.Kolye:300TL\n",
    "        3.Bileklik:250TL\n",
    "        4.Küpe:150TL\n",
    "        5.Yüzük:200TL\n",
    "        6.Önceki Menü\n",
    "        \"\"\"))\n",
    "        if s==1:\n",
    "            saatler={\"saat\" : int(\"500\")}\n",
    "            sepetData.update(saatler)\n",
    "            print(\"Ürün sepete eklendi\")\n",
    "            print(sepetData)\n",
    "        elif s==2:\n",
    "            kolyeler={\"kolye\" : int(\"300\")}\n",
    "            sepetData.update(kolyeler)\n",
    "            print(\"Ürün sepete eklendi\")\n",
    "            print(sepetData)\n",
    "        elif s==3:\n",
    "            bileklikler={\"bileklik\" : int(\"250\")}\n",
    "            sepetData.update(bileklikler)\n",
    "            print(\"Ürün sepete eklendi\")\n",
    "            print(sepetData)\n",
    "        elif s==4:\n",
    "            küpeler={\"küpe\" : int(\"150\")}\n",
    "            sepetData.update(küpeler)\n",
    "            print(\"Ürün sepete eklendi\")\n",
    "            print(sepetData)\n",
    "        elif s==5:\n",
    "            yüzükler={\"yüzük\" : int(\"200\")}\n",
    "            sepetData.update(yüzükler)\n",
    "            print(\"Ürün sepete eklendi\")\n",
    "            print(sepetData)\n",
    "        elif s==6:\n",
    "            alisveris()\n",
    "        else:\n",
    "             print(\"1-6 arasında seçim yapınız!!\")\n",
    "                \n",
    "                \n",
    "def kozmetikler():\n",
    "        k= int(input(\"\"\"\"\n",
    "        1.Parfüm:600TL\n",
    "        2.Maskara:250TL\n",
    "        3.Şampuan:80TL\n",
    "        4.Nemlendirici:150TL\n",
    "        5.Diş Macunu:50TL\n",
    "        6.Önceki Menü\n",
    "        \"\"\"))\n",
    "        if k==1:\n",
    "            parfumler={\"parfum\" : int(\"600\")}\n",
    "            sepetData.update(parfumler)\n",
    "            print(\"Ürün sepete eklendi\")\n",
    "            print(sepetData)\n",
    "        elif k==2:\n",
    "            maskaralar={\"maskara\" : int(\"250\")}\n",
    "            sepetData.update(maskaralar)\n",
    "            print(\"Ürün sepete eklendi\")\n",
    "            print(sepetData)\n",
    "        elif k==3:\n",
    "            sampuanlar={\"sampuan\" : int(\"80\")}\n",
    "            sepetData.update(sampuanlar)\n",
    "            print(\"Ürün sepete eklendi\")\n",
    "            print(sepetData)\n",
    "        elif k==4:\n",
    "            nemlendiriciler={\"nemlendirici\" : int(\"150\")}\n",
    "            sepetData.update(nemlendiriciler)\n",
    "            print(\"Ürün sepete eklendi\")\n",
    "            print(sepetData)\n",
    "        elif k==5:\n",
    "            dismacunları={\"dismacunu\" : int(\"50\")}\n",
    "            sepetData.update(dismacunları)\n",
    "            print(\"Ürün sepete eklendi\")\n",
    "            print(sepetData)\n",
    "        elif k==6:\n",
    "            alisveris()\n",
    "        else:\n",
    "             print(\"1-6 arasında seçim yapınız!!\")\n",
    "                \n",
    "                \n",
    "def ayakkabilar():\n",
    "        t= int(input(\"\"\"\"\n",
    "        1.Topuklu Ayakabı:300TL\n",
    "        2.Sneaker:250TL\n",
    "        3.Sandalet:200TL\n",
    "        4.Terlik:100TL\n",
    "        5.Bot:450TL\n",
    "        6.Önceki Menü\n",
    "        \"\"\"))\n",
    "        if t==1:\n",
    "            topuklular={\"topuklu\" : int(\"300\")}\n",
    "            sepetData.update(topuklular)\n",
    "            print(\"Ürün sepete eklendi\")\n",
    "            print(sepetData)\n",
    "        elif t==2:\n",
    "            sneakerlar={\"sneaker\" : int(\"250\")}\n",
    "            sepetData.update(sneakerlar)\n",
    "            print(\"Ürün sepete eklendi\")\n",
    "            print(sepetData)\n",
    "        elif t==3:\n",
    "            sandaletler={\"sandalet\" : int(\"200\")}\n",
    "            sepetData.update(sandaletler)\n",
    "            print(\"Ürün sepete eklendi\")\n",
    "            print(sepetData)\n",
    "        elif t==4:\n",
    "            terlikler={\"terlik\" : int(\"100\")}\n",
    "            sepetData.update(terlikler)\n",
    "            print(\"Ürün sepete eklendi\")\n",
    "            print(sepetData)\n",
    "        elif t==5:\n",
    "            botlar={\"bot\" : int(\"450\")}\n",
    "            sepetData.update(botlar)\n",
    "            print(\"Ürün sepete eklendi\")\n",
    "            print(sepetData)\n",
    "        elif t==6:\n",
    "            alisveris()\n",
    "        else:\n",
    "             print(\"1-6 arasında seçim yapınız!!\") \n",
    "\n",
    "def cantalar():\n",
    "        l = int(input(\"\"\"\"\n",
    "        1.Omuz Çantası:400TL\n",
    "        2.El Çantası:250TL\n",
    "        3.Sırt Çantası:500TL\n",
    "        4.Spor Çantası:250TL\n",
    "        5.Abiye Çanta:300TL\n",
    "        6.Önceki Menü\n",
    "        \"\"\"))\n",
    "        if l==1:\n",
    "            o_cantalar={\"omuz çantası\" : int(\"400\")}\n",
    "            sepetData.update(o_cantalar)\n",
    "            print(\"Ürün sepete eklendi\")\n",
    "            print(sepetData)\n",
    "        elif l==2:\n",
    "            e_cantalar={\"el çantası\" : int(\"250\")}\n",
    "            sepetData.update(e_cantalar)\n",
    "            print(\"Ürün sepete eklendi\")\n",
    "            print(sepetData)\n",
    "        elif l==3:\n",
    "            sı_cantalar={\"sırt çantası\" : int(\"500\")}\n",
    "            sepetData.update(sı_cantalar)\n",
    "            print(\"Ürün sepete eklendi\")\n",
    "            print(sepetData)\n",
    "        elif l==4:\n",
    "            sp_cantalar={\"spor çantası\" : int(\"250\")}\n",
    "            sepetData.update(sp_cantalar)\n",
    "            print(\"Ürün sepete eklendi\")\n",
    "            print(sepetData)\n",
    "        elif l==5:\n",
    "            a_cantalar={\"abiye çanta\" : int(\"300\")}\n",
    "            sepetData.update(a_cantalar)\n",
    "            print(\"Ürün sepete eklendi\")\n",
    "            print(sepetData)\n",
    "        elif l==6:\n",
    "            alisveris()\n",
    "        else:\n",
    "             print(\"1-6 arasında seçim yapınız!!\")                "
   ]
  },
  {
   "cell_type": "code",
   "execution_count": null,
   "id": "555f5d3f-78d6-48d2-91d6-92807e1ae954",
   "metadata": {},
   "outputs": [
    {
     "name": "stdin",
     "output_type": "stream",
     "text": [
      "Kullanıcı adınızı giriniz:  buket\n",
      "Şifrenizi giriniz:  12345\n",
      "\"\n",
      "        1.Siparişlerim\n",
      "        2.Sepetim\n",
      "        3.Alışveriş\n",
      "         3\n",
      "\"\n",
      "        1.Giyim\n",
      "        2.Aksesuar\n",
      "        3.Kozmetik\n",
      "        4.Ayakkabı\n",
      "        5.Çanta\n",
      "        6.Önceki Menü\n",
      "         1\n",
      "\"\n",
      "        1.Elbise:200TL\n",
      "        2.Tişört:80TL\n",
      "        3.Gömlek:100TL\n",
      "        4.Pantalon:150TL\n",
      "        5.Etek:90TL\n",
      "        6.Önceki Menü\n",
      "         1\n"
     ]
    },
    {
     "name": "stdout",
     "output_type": "stream",
     "text": [
      "Ürün sepete eklendi\n",
      "{'elbise': 200}\n"
     ]
    },
    {
     "name": "stdin",
     "output_type": "stream",
     "text": [
      "\"\n",
      "        1.Giyim\n",
      "        2.Aksesuar\n",
      "        3.Kozmetik\n",
      "        4.Ayakkabı\n",
      "        5.Çanta\n",
      "        6.Önceki Menü\n",
      "         2\n",
      "\"\n",
      "        1.Saat:500TL\n",
      "        2.Kolye:300TL\n",
      "        3.Bileklik:250TL\n",
      "        4.Küpe:150TL\n",
      "        5.Yüzük:200TL\n",
      "        6.Önceki Menü\n",
      "         1\n"
     ]
    },
    {
     "name": "stdout",
     "output_type": "stream",
     "text": [
      "Ürün sepete eklendi\n",
      "{'elbise': 200, 'saat': 500}\n"
     ]
    },
    {
     "name": "stdin",
     "output_type": "stream",
     "text": [
      "\"\n",
      "        1.Giyim\n",
      "        2.Aksesuar\n",
      "        3.Kozmetik\n",
      "        4.Ayakkabı\n",
      "        5.Çanta\n",
      "        6.Önceki Menü\n",
      "         4\n",
      "\"\n",
      "        1.Topuklu Ayakabı:300TL\n",
      "        2.Sneaker:250TL\n",
      "        3.Sandalet:200TL\n",
      "        4.Terlik:100TL\n",
      "        5.Bot:450TL\n",
      "        6.Önceki Menü\n",
      "         1\n"
     ]
    },
    {
     "name": "stdout",
     "output_type": "stream",
     "text": [
      "Ürün sepete eklendi\n",
      "{'elbise': 200, 'saat': 500, 'topuklu': 300}\n"
     ]
    },
    {
     "name": "stdin",
     "output_type": "stream",
     "text": [
      "\"\n",
      "        1.Giyim\n",
      "        2.Aksesuar\n",
      "        3.Kozmetik\n",
      "        4.Ayakkabı\n",
      "        5.Çanta\n",
      "        6.Önceki Menü\n",
      "         6\n",
      "\"\n",
      "        1.Siparişlerim\n",
      "        2.Sepetim\n",
      "        3.Alışveriş\n",
      "         2\n"
     ]
    },
    {
     "name": "stdout",
     "output_type": "stream",
     "text": [
      "{'elbise': 200, 'saat': 500, 'topuklu': 300}\n"
     ]
    },
    {
     "name": "stdin",
     "output_type": "stream",
     "text": [
      "\"\n",
      "        1.Sepet Toplam Fiyat\n",
      "        2.Ürün Çıkar\n",
      "        3.Sepeti Onayla\n",
      "        4.Önceki Menü\n",
      "         1\n"
     ]
    },
    {
     "name": "stdout",
     "output_type": "stream",
     "text": [
      "1000\n"
     ]
    },
    {
     "name": "stdin",
     "output_type": "stream",
     "text": [
      "\"\n",
      "        1.Sepet Toplam Fiyat\n",
      "        2.Ürün Çıkar\n",
      "        3.Sepeti Onayla\n",
      "        4.Önceki Menü\n",
      "         2\n",
      "Sepetten Silinecek Ürünü Nedir?: elbise\n"
     ]
    },
    {
     "name": "stdout",
     "output_type": "stream",
     "text": [
      "Başarı İle Silindi\n"
     ]
    },
    {
     "name": "stdin",
     "output_type": "stream",
     "text": [
      "\"\n",
      "        1.Sepet Toplam Fiyat\n",
      "        2.Ürün Çıkar\n",
      "        3.Sepeti Onayla\n",
      "        4.Önceki Menü\n",
      "         4\n",
      "\"\n",
      "        1.Siparişlerim\n",
      "        2.Sepetim\n",
      "        3.Alışveriş\n",
      "         2\n"
     ]
    },
    {
     "name": "stdout",
     "output_type": "stream",
     "text": [
      "{'saat': 500, 'topuklu': 300}\n"
     ]
    },
    {
     "name": "stdin",
     "output_type": "stream",
     "text": [
      "\"\n",
      "        1.Sepet Toplam Fiyat\n",
      "        2.Ürün Çıkar\n",
      "        3.Sepeti Onayla\n",
      "        4.Önceki Menü\n",
      "         4\n",
      "\"\n",
      "        1.Siparişlerim\n",
      "        2.Sepetim\n",
      "        3.Alışveriş\n",
      "         1\n"
     ]
    },
    {
     "name": "stdout",
     "output_type": "stream",
     "text": [
      "{}\n"
     ]
    },
    {
     "name": "stdin",
     "output_type": "stream",
     "text": [
      "\n",
      "        Önceki Menüye gitmek için:1\n",
      "        Çıkmak için:2\n",
      "         2\n"
     ]
    },
    {
     "name": "stdout",
     "output_type": "stream",
     "text": [
      "Hoşçakal\n"
     ]
    },
    {
     "name": "stdin",
     "output_type": "stream",
     "text": [
      "\"\n",
      "        1.Siparişlerim\n",
      "        2.Sepetim\n",
      "        3.Alışveriş\n",
      "         2\n"
     ]
    },
    {
     "name": "stdout",
     "output_type": "stream",
     "text": [
      "{'saat': 500, 'topuklu': 300}\n"
     ]
    },
    {
     "name": "stdin",
     "output_type": "stream",
     "text": [
      "\"\n",
      "        1.Sepet Toplam Fiyat\n",
      "        2.Ürün Çıkar\n",
      "        3.Sepeti Onayla\n",
      "        4.Önceki Menü\n",
      "         3\n"
     ]
    },
    {
     "name": "stdout",
     "output_type": "stream",
     "text": [
      "siparişiniz onaylanmıştır.\n"
     ]
    },
    {
     "name": "stdin",
     "output_type": "stream",
     "text": [
      "\"\n",
      "        1.Sepet Toplam Fiyat\n",
      "        2.Ürün Çıkar\n",
      "        3.Sepeti Onayla\n",
      "        4.Önceki Menü\n",
      "         4\n",
      "\"\n",
      "        1.Siparişlerim\n",
      "        2.Sepetim\n",
      "        3.Alışveriş\n",
      "         1\n"
     ]
    },
    {
     "name": "stdout",
     "output_type": "stream",
     "text": [
      "{'saat': 500, 'topuklu': 300}\n"
     ]
    },
    {
     "name": "stdin",
     "output_type": "stream",
     "text": [
      "\n",
      "        Önceki Menüye gitmek için:1\n",
      "        Çıkmak için:2\n",
      "         2\n"
     ]
    },
    {
     "name": "stdout",
     "output_type": "stream",
     "text": [
      "Hoşçakal\n"
     ]
    },
    {
     "name": "stdin",
     "output_type": "stream",
     "text": [
      "\"\n",
      "        1.Siparişlerim\n",
      "        2.Sepetim\n",
      "        3.Alışveriş\n",
      "         3\n",
      "\"\n",
      "        1.Giyim\n",
      "        2.Aksesuar\n",
      "        3.Kozmetik\n",
      "        4.Ayakkabı\n",
      "        5.Çanta\n",
      "        6.Önceki Menü\n",
      "         2\n",
      "\"\n",
      "        1.Saat:500TL\n",
      "        2.Kolye:300TL\n",
      "        3.Bileklik:250TL\n",
      "        4.Küpe:150TL\n",
      "        5.Yüzük:200TL\n",
      "        6.Önceki Menü\n",
      "         1\n"
     ]
    },
    {
     "name": "stdout",
     "output_type": "stream",
     "text": [
      "Ürün sepete eklendi\n",
      "{'saat': 500}\n"
     ]
    },
    {
     "name": "stdin",
     "output_type": "stream",
     "text": [
      "\"\n",
      "        1.Giyim\n",
      "        2.Aksesuar\n",
      "        3.Kozmetik\n",
      "        4.Ayakkabı\n",
      "        5.Çanta\n",
      "        6.Önceki Menü\n",
      "         4\n",
      "\"\n",
      "        1.Topuklu Ayakabı:300TL\n",
      "        2.Sneaker:250TL\n",
      "        3.Sandalet:200TL\n",
      "        4.Terlik:100TL\n",
      "        5.Bot:450TL\n",
      "        6.Önceki Menü\n",
      "         1\n"
     ]
    },
    {
     "name": "stdout",
     "output_type": "stream",
     "text": [
      "Ürün sepete eklendi\n",
      "{'saat': 500, 'topuklu': 300}\n"
     ]
    },
    {
     "name": "stdin",
     "output_type": "stream",
     "text": [
      "\"\n",
      "        1.Giyim\n",
      "        2.Aksesuar\n",
      "        3.Kozmetik\n",
      "        4.Ayakkabı\n",
      "        5.Çanta\n",
      "        6.Önceki Menü\n",
      "         6\n",
      "\"\n",
      "        1.Siparişlerim\n",
      "        2.Sepetim\n",
      "        3.Alışveriş\n",
      "         2\n"
     ]
    },
    {
     "name": "stdout",
     "output_type": "stream",
     "text": [
      "{'saat': 500, 'topuklu': 300}\n"
     ]
    },
    {
     "name": "stdin",
     "output_type": "stream",
     "text": [
      "\"\n",
      "        1.Sepet Toplam Fiyat\n",
      "        2.Ürün Çıkar\n",
      "        3.Sepeti Onayla\n",
      "        4.Önceki Menü\n",
      "         3\n"
     ]
    },
    {
     "name": "stdout",
     "output_type": "stream",
     "text": [
      "siparişiniz onaylanmıştır.\n"
     ]
    },
    {
     "name": "stdin",
     "output_type": "stream",
     "text": [
      "\"\n",
      "        1.Sepet Toplam Fiyat\n",
      "        2.Ürün Çıkar\n",
      "        3.Sepeti Onayla\n",
      "        4.Önceki Menü\n",
      "         4\n",
      "\"\n",
      "        1.Siparişlerim\n",
      "        2.Sepetim\n",
      "        3.Alışveriş\n",
      "         1\n"
     ]
    },
    {
     "name": "stdout",
     "output_type": "stream",
     "text": [
      "{'saat': 500, 'topuklu': 300}\n"
     ]
    },
    {
     "name": "stdin",
     "output_type": "stream",
     "text": [
      "\n",
      "        Önceki Menüye gitmek için:1\n",
      "        Çıkmak için:2\n",
      "         1\n",
      "\"\n",
      "        1.Siparişlerim\n",
      "        2.Sepetim\n",
      "        3.Alışveriş\n",
      "         2\n"
     ]
    },
    {
     "name": "stdout",
     "output_type": "stream",
     "text": [
      "{}\n"
     ]
    }
   ],
   "source": [
    "#kullanıcı adı ve şifre belirledim. Kullanıcı doğru giriş yaparsa önceden tanımladığımız ekranlara girebilir.\n",
    "\n",
    "user = \"buket\"\n",
    "password = \"12345\"\n",
    "\n",
    "while True:\n",
    "    kullanici = input(\"Kullanıcı adınızı giriniz: \")\n",
    "    parola = input(\"Şifrenizi giriniz: \")\n",
    "    # ikisi de doğru\n",
    "    if kullanici == user and parola == password:\n",
    "        basarili_giris()\n",
    "        break\n",
    "    # kullanıcı adı doğru şifre yanlış\n",
    "    elif kullanici == user and parola != password:\n",
    "        print(\"Şifreniz yanlış\")\n",
    "    # şifre doğru kullacı adı yanlış\n",
    "    elif kullanici != user and parola == password:\n",
    "        print(\"Kullanıcı adınız yanlış\")\n",
    "    # ikisi de yanlış\n",
    "    else:\n",
    "        print(\"Kullanıcı adı ve şifre hatalı\")"
   ]
  },
  {
   "cell_type": "code",
   "execution_count": null,
   "id": "0dee7dc0-95af-4606-be7a-fda03ff0e379",
   "metadata": {},
   "outputs": [],
   "source": []
  }
 ],
 "metadata": {
  "kernelspec": {
   "display_name": "Python 3",
   "language": "python",
   "name": "python3"
  },
  "language_info": {
   "codemirror_mode": {
    "name": "ipython",
    "version": 3
   },
   "file_extension": ".py",
   "mimetype": "text/x-python",
   "name": "python",
   "nbconvert_exporter": "python",
   "pygments_lexer": "ipython3",
   "version": "3.8.8"
  }
 },
 "nbformat": 4,
 "nbformat_minor": 5
}
